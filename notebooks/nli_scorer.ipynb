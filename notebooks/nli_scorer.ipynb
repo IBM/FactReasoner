{
 "cells": [
  {
   "cell_type": "markdown",
   "id": "a1dc791c",
   "metadata": {},
   "source": [
    "## Example of NLI Scorer"
   ]
  },
  {
   "cell_type": "markdown",
   "id": "284df91b",
   "metadata": {},
   "source": [
    "### Import libraries"
   ]
  },
  {
   "cell_type": "code",
   "execution_count": 1,
   "id": "c50a1157",
   "metadata": {},
   "outputs": [
    {
     "name": "stdout",
     "output_type": "stream",
     "text": [
      "INFO 10-29 06:51:08 [__init__.py:220] No platform detected, vLLM is running on UnspecifiedPlatform\n",
      "WARNING 10-29 06:51:15 [_custom_ops.py:20] Failed to import from vllm._C with ImportError('libcuda.so.1: cannot open shared object file: No such file or directory')\n"
     ]
    }
   ],
   "source": [
    "import os\n",
    "from pathlib import Path\n",
    "import sys\n",
    "import json\n",
    "import logging\n",
    "\n",
    "parent_dir = str(Path(os.getcwd()).resolve().parent)\n",
    "sys.path.insert(0, parent_dir)\n",
    "\n",
    "logger = logging.getLogger(__name__)\n",
    "logging.getLogger(\"LiteLLM\").disabled = True\n",
    "\n",
    "from src.fact_reasoner.nli_extractor import NLIExtractor\n"
   ]
  },
  {
   "cell_type": "markdown",
   "id": "f1991c30",
   "metadata": {},
   "source": [
    "### Instantiate the NLI Scorer"
   ]
  },
  {
   "cell_type": "code",
   "execution_count": 2,
   "id": "e7f60728",
   "metadata": {},
   "outputs": [
    {
     "name": "stdout",
     "output_type": "stream",
     "text": [
      "[LLMHandler] Using API key: 4c4957b64f4875503e2a7a0e9ab85383\n",
      "[LLMHandler] Using model id: openai/meta-llama/llama-3-3-70b-instruct\n",
      "[LLMHandler] Using model info: {'model_id': 'openai/meta-llama/llama-3-3-70b-instruct', 'api_base': 'https://inference-3scale-apicast-production.apps.rits.fmaas.res.ibm.com/llama-3-3-70b-instruct/v1', 'max_new_tokens': 128000, 'prompt_template': '<|begin_of_text|><|start_header_id|>user<|end_header_id|>\\n\\n{}<|eot_id|><|start_header_id|>assistant<|end_header_id|>', 'prompt_begin': '<|begin_of_text|><|start_header_id|>user<|end_header_id|>', 'prompt_end': '<|eot_id|><|start_header_id|>assistant<|end_header_id|>'}\n",
      "[LLMHandler] Initialization completed.\n",
      "[NLIExtractor] Using LLM on rits: llama-3.3-70b-instruct\n",
      "[NLIExtractor] Prompt version: v2\n",
      "[NLIExtractor] Prompt created (8765).\n",
      "H -> P: {'label': 'neutral', 'probability': 0.9999994039539004}\n",
      "Done.\n"
     ]
    }
   ],
   "source": [
    "model_id = \"llama-3.3-70b-instruct\"\n",
    "backend = \"rits\"\n",
    "\n",
    "# Example premise and hypothesis\n",
    "premise = \"natural born killers is a 1994 american romantic crime action film directed by oliver stone and starring woody harrelson, juliette lewis, robert downey jr., tommy lee jones, and tom sizemore. the film tells the story of two victims of traumatic childhoods who become lovers and mass murderers, and are irresponsibly glorified by the mass media. the film is based on an original screenplay by quentin tarantino that was heavily revised by stone, writer david veloz, and associate producer richard rutowski. tarantino received a story credit though he subsequently disowned the film. jane hamsher, don murphy, and clayton townsend produced the film, with arnon milchan, thom mount, and stone as executive producers. natural born killers was released on august 26, 1994 in the united states, and screened at the venice film festival on august 29, 1994. it was a box office success, grossing $ 110 million against a production budget of $ 34 million, but received polarized reviews. some critics praised the plot, acting, humor, and combination of action and romance, while others found the film overly violent and graphic. notorious for its violent content and inspiring \\\" copycat \\\" crimes, the film was named the eighth most controversial film in history by entertainment weekly in 2006. = = plot = = mickey knox and his wife mallory stop at a diner in the new mexico desert. a duo of rednecks arrive and begin sexually harassing mallory as she dances by a jukebox. she initially encourages it before beating one of the men viciously. mickey joins her, and the couple murder everyone in the diner, save one customer, to whom they proudly declare their names before leaving. the couple camp in the desert, and mallory reminisces about how she met mickey, a meat deliveryman who serviced her family ' s household. after a whirlwind romance, mickey is arrested for grand theft auto and sent to prison ; he escapes and returns to mallory ' s home. the couple murders mallory ' s sexually abusive father and neglectful mother, but spare the life of mallory ' s little brother, kevin. the couple then have an unofficial marriage ceremony on a bridge. later, mickey and mallory hold a woman hostage in their hotel room. angered by mickey ' s desire for a threesome, mallory leaves, and mickey rapes the hostage. mallory drives to a nearby gas station, where she flirts with a mechanic. they begin to have sex on the hood of a car, but after mallory suffers a flashback of being raped by her father, and the mechanic recognizes her as a wanted murderer, mallory kills him. the pair continue their killing spree, ultimately claiming 52 victims in new mexico, arizona and nevada. pursuing them is detective jack scagnetti, who became obsessed with mass murderers at the age of eight after having witnessed the murder of his mother at the hand of charles whitman. beneath his heroic facade, he is also a violent psychopath and has murdered prostitutes in his past. following the pair ' s murder spree is self - serving tabloid journalist wayne gale, who profiles them on his show american maniacs, soon elevating them to cult - hero status. mickey and mallory become lost in the desert after taking psychedelic mushrooms, and they stumble upon a ranch owned by warren red cloud, a navajo man who provides them food and shelter. as mickey and mallory sleep, warren, sensing evil in the couple, attempts to exorcise the demon that he perceives in mickey, chanting over him as he sleeps. mickey, who has nightmares of his abusive parents, awakens during the exorcism and shoots warren to death. as the couple flee, they feel inexplicably guilty and come across a giant field of rattlesnakes, where they are badly bitten. they reach a drugstore to purchase snakebite antidote, but the store is sold out. a pharmacist recognizes the couple and triggers an alarm before mickey kills him. police arrive shortly after and accost the couple and a shootout ensues. the police end the showdown by beating the couple while a \"\n",
    "hypothesis = \"Lanny Flaherty has appeared in numerous films.\"\n",
    "\n",
    "# Create the extractor\n",
    "extractor = NLIExtractor(model_id=model_id, prompt_version=\"v2\", backend=backend)    \n",
    "result = extractor.run(premise=premise, hypothesis=hypothesis)\n",
    "\n",
    "# Output results\n",
    "print(f\"H -> P: {result}\")\n",
    "print(\"Done.\")"
   ]
  },
  {
   "cell_type": "code",
   "execution_count": null,
   "id": "65d91354",
   "metadata": {},
   "outputs": [],
   "source": []
  }
 ],
 "metadata": {
  "kernelspec": {
   "display_name": "Python 3 (ipykernel)",
   "language": "python",
   "name": "python3"
  },
  "language_info": {
   "codemirror_mode": {
    "name": "ipython",
    "version": 3
   },
   "file_extension": ".py",
   "mimetype": "text/x-python",
   "name": "python",
   "nbconvert_exporter": "python",
   "pygments_lexer": "ipython3",
   "version": "3.10.18"
  }
 },
 "nbformat": 4,
 "nbformat_minor": 5
}
