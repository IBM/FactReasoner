{
 "cells": [
  {
   "cell_type": "markdown",
   "id": "7c743d60",
   "metadata": {},
   "source": [
    "# Data Processing"
   ]
  },
  {
   "cell_type": "code",
   "execution_count": null,
   "id": "9155b640",
   "metadata": {},
   "outputs": [],
   "source": [
    "import json\n",
    "\n",
    "with open(\n",
    "    \"/u/adamdejl/fm-factual/data/WikiContradict_HumanEval/WikiContradict_HumanEval_adjudication.json\",\n",
    "    \"r\",\n",
    ") as f:\n",
    "    adjudication_json = json.load(f)"
   ]
  },
  {
   "cell_type": "code",
   "execution_count": 5,
   "id": "a68a384f",
   "metadata": {},
   "outputs": [],
   "source": [
    "samples = []\n",
    "\n",
    "for model, annotations in adjudication_json.items():\n",
    "    for annotation in annotations:\n",
    "        try:\n",
    "            sample = {}\n",
    "            sample[\"question\"] = annotation[\"question1\"]\n",
    "            sample[\"context1_self_contained\"] = annotation[\"question1_context1\"]\n",
    "            sample[\"context2_self_contained\"] = annotation[\"question1_context2\"]\n",
    "            sample[\"gt_answer_1\"] = annotation[\"question1_answer1\"]\n",
    "            sample[\"gt_answer_2\"] = annotation[\"question1_answer2\"]\n",
    "            sample[\"answer0\"] = annotation[\"ModelAnswer_prompt_0\"].replace(\n",
    "                \"\\nAnswer: \", \"\"\n",
    "            )\n",
    "            sample[\"answer1\"] = annotation[\"ModelAnswer_prompt_1\"].replace(\n",
    "                \"\\nAnswer: \", \"\"\n",
    "            )\n",
    "            sample[\"answer2\"] = annotation[\"ModelAnswer_prompt_2\"].replace(\n",
    "                \"\\nAnswer: \", \"\"\n",
    "            )\n",
    "            sample[\"answer3\"] = annotation[\"ModelAnswer_prompt_3\"].replace(\n",
    "                \"\\nAnswer: \", \"\"\n",
    "            )\n",
    "            sample[\"answer4\"] = annotation[\"ModelAnswer_prompt_4\"].replace(\n",
    "                \"\\nAnswer: \", \"\"\n",
    "            )\n",
    "            sample[\"label0\"] = annotation[\"ModelAnswer_prompt_0_humanEval\"]\n",
    "            sample[\"label1\"] = annotation[\"ModelAnswer_prompt_1_humanEval\"]\n",
    "            sample[\"label2\"] = annotation[\"ModelAnswer_prompt_2_humanEval\"]\n",
    "            sample[\"label3\"] = annotation[\"ModelAnswer_prompt_3_humanEval\"]\n",
    "            sample[\"label4\"] = annotation[\"ModelAnswer_prompt_4_humanEval\"]\n",
    "            sample[\"model\"] = model\n",
    "            samples.append(sample)\n",
    "        except Exception:\n",
    "            print(\n",
    "                f\"Warning: {model}/{annotation['id']} doesn't have the required fields, skipping.\"\n",
    "            )"
   ]
  },
  {
   "cell_type": "code",
   "execution_count": 6,
   "id": "0176c08b",
   "metadata": {},
   "outputs": [],
   "source": [
    "with open(\"./data/wiki_contradict_simple_humaneval.jsonl\", \"w\") as f:\n",
    "    for sample in samples:\n",
    "        json.dump(sample, f)\n",
    "        f.write(\"\\n\")"
   ]
  }
 ],
 "metadata": {
  "kernelspec": {
   "display_name": "Python 3 (ipykernel)",
   "language": "python",
   "name": "python3"
  },
  "language_info": {
   "codemirror_mode": {
    "name": "ipython",
    "version": 3
   },
   "file_extension": ".py",
   "mimetype": "text/x-python",
   "name": "python",
   "nbconvert_exporter": "python",
   "pygments_lexer": "ipython3",
   "version": "3.12.11"
  }
 },
 "nbformat": 4,
 "nbformat_minor": 5
}
