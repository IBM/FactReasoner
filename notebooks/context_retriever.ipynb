{
 "cells": [
  {
   "cell_type": "markdown",
   "id": "a1dc791c",
   "metadata": {},
   "source": [
    "### Example of Context Retriever"
   ]
  },
  {
   "cell_type": "code",
   "execution_count": null,
   "id": "c50a1157",
   "metadata": {},
   "outputs": [
    {
     "name": "stdout",
     "output_type": "stream",
     "text": [
      "INFO 10-29 06:47:03 [__init__.py:220] No platform detected, vLLM is running on UnspecifiedPlatform\n",
      "WARNING 10-29 06:47:10 [_custom_ops.py:20] Failed to import from vllm._C with ImportError('libcuda.so.1: cannot open shared object file: No such file or directory')\n"
     ]
    }
   ],
   "source": [
    "import os\n",
    "from pathlib import Path\n",
    "import sys\n",
    "import logging\n",
    "\n",
    "parent_dir = str(Path(os.getcwd()).resolve().parent)\n",
    "sys.path.insert(0, parent_dir)\n",
    "\n",
    "logger = logging.getLogger(__name__)\n",
    "logging.getLogger(\"LiteLLM\").disabled = True\n",
    "\n",
    "from src.fact_reasoner.context_retriever import ContextRetriever"
   ]
  },
  {
   "cell_type": "code",
   "execution_count": 2,
   "id": "e7f60728",
   "metadata": {},
   "outputs": [
    {
     "name": "stdout",
     "output_type": "stream",
     "text": [
      "Retrieving 5 search results for: Lanny Flaherty has appeared in Law & Order.\n",
      "Using query text: Lanny Flaherty has appeared in Law & Order.\n",
      "Number of contexts: 5\n",
      "{'title': 'Lanny Flaherty(1942-2024)', 'text': '', 'snippet': \"He was an actor, known for Signs (2002), Miller's Crossing (1990) and Men in Black³ (2012). He died on 18 February 2024 in Manhattan, New York City, New York, ...\", 'link': 'https://www.imdb.com/name/nm0280890/'}\n",
      "********************************************************************************\n",
      "{'title': 'Lanny Flaherty', 'text': '', 'snippet': 'Lanny Flaherty (July 27, 1942 – February 18, 2024) was an American actor. Lanny Flaherty. Born, (1942-07-27)July 27, 1942. Pontotoc, Mississippi, U.S..', 'link': 'https://en.wikipedia.org/wiki/Lanny_Flaherty'}\n",
      "********************************************************************************\n",
      "{'title': 'Lanny Flaherty Movies & TV Shows List', 'text': '', 'snippet': 'Explore the complete filmography of Lanny Flaherty on Rotten Tomatoes! Discover every movie and TV show they have been credited in.', 'link': 'https://www.rottentomatoes.com/celebrity/lanny-flaherty'}\n",
      "********************************************************************************\n",
      "{'title': 'Danny Flaherty previews his guest-starring role on LAW & ...', 'text': '', 'snippet': 'Danny Flaherty previews his guest-starring role on LAW & ORDER: CRIMINAL INTENT. In an exclusive interview with NiceGirlsTV, Danny Flaherty ...', 'link': 'https://nicegirlstv.com/2011/05/01/danny-flaherty-previews-his-guest-starring-role-on-law-order-criminal-intent/'}\n",
      "********************************************************************************\n",
      "{'title': 'Criminal Intent (TV Series 2001–2011) - Full cast & crew', 'text': '', 'snippet': 'Law & Order: Criminal Intent (TV Series 2001–2011) - Cast and crew credits, including actors, actresses, directors, writers and more.', 'link': 'https://www.imdb.com/title/tt0275140/fullcredits/'}\n",
      "********************************************************************************\n",
      "Done.\n"
     ]
    }
   ],
   "source": [
    "query = \"Lanny Flaherty has appeared in Law & Order.\"\n",
    "cache_dir = None # \"my_database.db\"\n",
    "query_builder = None # QueryBuilder(model_id=\"llama-3.3-70b-instruct\", backend=\"rits\")\n",
    "\n",
    "retriever = ContextRetriever(\n",
    "    top_k=5,\n",
    "    service_type=\"google\",\n",
    "    cache_dir=cache_dir,\n",
    "    query_builder=query_builder\n",
    ")\n",
    "\n",
    "contexts = retriever.query(text=query)\n",
    "\n",
    "print(f\"Number of contexts: {len(contexts)}\")\n",
    "for context in contexts:\n",
    "    print(context)\n",
    "    print(\"****\" * 20)\n",
    "\n",
    "print(\"Done.\")"
   ]
  }
 ],
 "metadata": {
  "kernelspec": {
   "display_name": "Python 3 (ipykernel)",
   "language": "python",
   "name": "python3"
  },
  "language_info": {
   "codemirror_mode": {
    "name": "ipython",
    "version": 3
   },
   "file_extension": ".py",
   "mimetype": "text/x-python",
   "name": "python",
   "nbconvert_exporter": "python",
   "pygments_lexer": "ipython3",
   "version": "3.10.18"
  }
 },
 "nbformat": 4,
 "nbformat_minor": 5
}
