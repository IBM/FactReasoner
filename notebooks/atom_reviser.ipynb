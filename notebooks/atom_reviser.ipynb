{
 "cells": [
  {
   "cell_type": "markdown",
   "id": "a1dc791c",
   "metadata": {},
   "source": [
    "## Example of Atom Reviser"
   ]
  },
  {
   "cell_type": "markdown",
   "id": "7f9b4479",
   "metadata": {},
   "source": [
    "### Impot libraries"
   ]
  },
  {
   "cell_type": "code",
   "execution_count": null,
   "id": "c50a1157",
   "metadata": {},
   "outputs": [],
   "source": [
    "import os\n",
    "from pathlib import Path\n",
    "import sys\n",
    "import logging\n",
    "\n",
    "parent_dir = str(Path(os.getcwd()).resolve().parent)\n",
    "sys.path.insert(0, parent_dir)\n",
    "\n",
    "logger = logging.getLogger(__name__)\n",
    "logging.getLogger(\"LiteLLM\").disabled = True\n",
    "\n",
    "from src.fact_reasoner.atom_reviser import AtomReviser"
   ]
  },
  {
   "cell_type": "code",
   "execution_count": 4,
   "id": "e7f60728",
   "metadata": {},
   "outputs": [
    {
     "name": "stdout",
     "output_type": "stream",
     "text": [
      "[LLMHandler] Using API key: 4c4957b64f4875503e2a7a0e9ab85383\n",
      "[LLMHandler] Using model id: openai/meta-llama/llama-3-3-70b-instruct\n",
      "[LLMHandler] Using model info: {'model_id': 'openai/meta-llama/llama-3-3-70b-instruct', 'api_base': 'https://inference-3scale-apicast-production.apps.rits.fmaas.res.ibm.com/llama-3-3-70b-instruct/v1', 'max_new_tokens': 128000, 'prompt_template': '<|begin_of_text|><|start_header_id|>user<|end_header_id|>\\n\\n{}<|eot_id|><|start_header_id|>assistant<|end_header_id|>', 'prompt_begin': '<|begin_of_text|><|start_header_id|>user<|end_header_id|>', 'prompt_end': '<|eot_id|><|start_header_id|>assistant<|end_header_id|>'}\n",
      "[LLMHandler] Initialization completed.\n",
      "[AtomReviser] Using LLM on rits: llama-3.3-70b-instruct\n",
      "[AtomReviser] Using prompt version: v2\n",
      "[AtomReviser] Prompts created: 4\n"
     ]
    },
    {
     "name": "stderr",
     "output_type": "stream",
     "text": [
      "Decontextualization: 100%|██████████████████████████████████████████████████████████████| 4/4 [00:00<00:00, 77672.30prompts/s]"
     ]
    },
    {
     "name": "stdout",
     "output_type": "stream",
     "text": [
      "He has appeared in numerous films. --> Lanny Flaherty has appeared in numerous films.\n",
      "He has appeared in numerous television shows. --> Lanny Flaherty has appeared in numerous television shows.\n",
      "He has appeared in numerous theater productions. --> Lanny Flaherty has appeared in numerous theater productions.\n",
      "His career began in the late 1970s. --> Lanny Flaherty's career began in the late 1970s.\n"
     ]
    },
    {
     "name": "stderr",
     "output_type": "stream",
     "text": [
      "\n"
     ]
    }
   ],
   "source": [
    "model_id = \"llama-3.3-70b-instruct\"\n",
    "prompt_version = \"v2\"\n",
    "backend = \"rits\"\n",
    "\n",
    "response = \"Lanny Flaherty is an American actor born on December 18, 1949, \\\n",
    "    in Pensacola, Florida. He has appeared in numerous films, television \\\n",
    "    shows, and theater productions throughout his career, which began in the \\\n",
    "    late 1970s. Some of his notable film credits include \\\"King of New York,\\\" \\\n",
    "    \\\"The Abyss,\\\" \\\"Natural Born Killers,\\\" \\\"The Game,\\\" and \\\"The Straight Story.\\\" \\\n",
    "    On television, he has appeared in shows such as \\\"Law & Order,\\\" \\\"The Sopranos,\\\" \\\n",
    "    \\\"Boardwalk Empire,\\\" and \\\"The Leftovers.\\\" Flaherty has also worked \\\n",
    "    extensively in theater, including productions at the Public Theater and \\\n",
    "    the New York Shakespeare Festival. He is known for his distinctive looks \\\n",
    "    and deep gravelly voice, which have made him a memorable character \\\n",
    "    actor in the industry.\"\n",
    "\n",
    "atoms = [\n",
    "    \"He has appeared in numerous films.\",\n",
    "    \"He has appeared in numerous television shows.\",\n",
    "    \"He has appeared in numerous theater productions.\",\n",
    "    \"His career began in the late 1970s.\"\n",
    "]\n",
    "\n",
    "reviser = AtomReviser(model_id=model_id, prompt_version=prompt_version, backend=backend)\n",
    "results = reviser.run(atoms, response)\n",
    "for elem in results:\n",
    "    orig_atom = elem[\"atom\"]\n",
    "    revised_atom = elem[\"revised_atom\"]\n",
    "    print(f\"{orig_atom} --> {revised_atom}\")"
   ]
  }
 ],
 "metadata": {
  "kernelspec": {
   "display_name": "Python 3 (ipykernel)",
   "language": "python",
   "name": "python3"
  },
  "language_info": {
   "codemirror_mode": {
    "name": "ipython",
    "version": 3
   },
   "file_extension": ".py",
   "mimetype": "text/x-python",
   "name": "python",
   "nbconvert_exporter": "python",
   "pygments_lexer": "ipython3",
   "version": "3.10.18"
  }
 },
 "nbformat": 4,
 "nbformat_minor": 5
}
