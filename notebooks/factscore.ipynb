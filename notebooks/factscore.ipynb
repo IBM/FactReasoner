{
 "cells": [
  {
   "cell_type": "markdown",
   "id": "fc125cf5",
   "metadata": {},
   "source": [
    "### Example of FactScore Baseline (prompt)"
   ]
  },
  {
   "cell_type": "code",
   "execution_count": null,
   "id": "e3818070",
   "metadata": {},
   "outputs": [],
   "source": [
    "import os\n",
    "from pathlib import Path\n",
    "import sys\n",
    "import json\n",
    "\n",
    "parent_dir = str(Path(os.getcwd()).resolve().parent)\n",
    "sys.path.insert(0, parent_dir)\n",
    "\n",
    "from src.fact_reasoner.context_retriever import ContextRetriever\n",
    "from src.fact_reasoner.atom_extractor import AtomExtractor\n",
    "from src.fact_reasoner.atom_reviser import AtomReviser\n",
    "from src.fact_reasoner.baselines.factscore import FactScore"
   ]
  },
  {
   "cell_type": "code",
   "execution_count": null,
   "id": "9ea2a3a1",
   "metadata": {},
   "outputs": [],
   "source": [
    "# Define the model and backend\n",
    "model_id = \"llama-3.3-70b-instruct\"\n",
    "backend = \"rits\"\n",
    "cache_dir = None\n",
    "\n",
    "# Define the input file (change to ...)\n",
    "input_file = \"/home/radu/git/FactReasoner/examples/flaherty_wikipedia.json\"\n",
    "\n",
    "# Create the retriever, atomizer and reviser.\n",
    "context_retriever = ContextRetriever(service_type=\"google\", top_k=5, cache_dir=cache_dir)\n",
    "atom_extractor = AtomExtractor(model_id=model_id, backend=backend)\n",
    "atom_reviser = AtomReviser(model_id=model_id, backend=backend)\n",
    "\n",
    "# Create the FactScore pipeline\n",
    "pipeline = FactScore(\n",
    "    context_retriever=context_retriever,\n",
    "    atom_extractor=atom_extractor,\n",
    "    atom_reviser=atom_reviser,\n",
    "    model_id=model_id,\n",
    "    add_topic=True,\n",
    "    backend=backend,  # Use RITS for the LLM\n",
    ")\n",
    "\n",
    "# Load the problem instance from a file\n",
    "json_file = input_file\n",
    "with open(json_file, \"r\") as f:\n",
    "    data = json.load(f)\n",
    "\n",
    "# Load the file (json)\n",
    "print(f\"[FactScore] Initializing pipeline from: {json_file}\")\n",
    "pipeline.from_dict_with_contexts(data)\n",
    "\n",
    "# Build the scorer\n",
    "pipeline.build(\n",
    "    has_atoms=True,\n",
    "    has_contexts=True,\n",
    "    decontextualize_atoms=False\n",
    ")\n",
    "\n",
    "# Print the results\n",
    "results = pipeline.score()\n",
    "print(f\"[FactScore] Results: {results}\")\n",
    "print(f\"Done.\")"
   ]
  }
 ],
 "metadata": {
  "kernelspec": {
   "display_name": "fmfactual",
   "language": "python",
   "name": "python3"
  },
  "language_info": {
   "codemirror_mode": {
    "name": "ipython",
    "version": 3
   },
   "file_extension": ".py",
   "mimetype": "text/x-python",
   "name": "python",
   "nbconvert_exporter": "python",
   "pygments_lexer": "ipython3",
   "version": "3.9.18"
  }
 },
 "nbformat": 4,
 "nbformat_minor": 5
}
