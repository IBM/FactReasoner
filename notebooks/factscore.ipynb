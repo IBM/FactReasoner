{
 "cells": [
  {
   "cell_type": "markdown",
   "id": "fc125cf5",
   "metadata": {},
   "source": [
    "### Example of FactScore Baseline (prompt)"
   ]
  },
  {
   "cell_type": "code",
   "execution_count": null,
   "id": "9ea2a3a1",
   "metadata": {},
   "outputs": [],
   "source": [
    "import os"
   ]
  }
 ],
 "metadata": {
  "language_info": {
   "name": "python"
  }
 },
 "nbformat": 4,
 "nbformat_minor": 5
}
