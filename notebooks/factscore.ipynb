{
 "cells": [
  {
   "cell_type": "markdown",
   "id": "fc125cf5",
   "metadata": {},
   "source": [
    "### Example of FactScore Baseline (prompt)"
   ]
  },
  {
   "cell_type": "code",
   "execution_count": 1,
   "id": "e3818070",
   "metadata": {},
   "outputs": [
    {
     "name": "stdout",
     "output_type": "stream",
     "text": [
      "/data/radu/git/FactReasoner\n"
     ]
    },
    {
     "ename": "ModuleNotFoundError",
     "evalue": "No module named 'chromadb'",
     "output_type": "error",
     "traceback": [
      "\u001b[0;31m---------------------------------------------------------------------------\u001b[0m",
      "\u001b[0;31mModuleNotFoundError\u001b[0m                       Traceback (most recent call last)",
      "Cell \u001b[0;32mIn[1], line 10\u001b[0m\n\u001b[1;32m      7\u001b[0m sys\u001b[38;5;241m.\u001b[39mpath\u001b[38;5;241m.\u001b[39minsert(\u001b[38;5;241m0\u001b[39m, parent_dir)\n\u001b[1;32m      8\u001b[0m \u001b[38;5;28mprint\u001b[39m(parent_dir)\n\u001b[0;32m---> 10\u001b[0m \u001b[38;5;28;01mfrom\u001b[39;00m \u001b[38;5;21;01msrc\u001b[39;00m\u001b[38;5;21;01m.\u001b[39;00m\u001b[38;5;21;01mfact_reasoner\u001b[39;00m\u001b[38;5;21;01m.\u001b[39;00m\u001b[38;5;21;01mcontext_retriever\u001b[39;00m \u001b[38;5;28;01mimport\u001b[39;00m ContextRetriever\n\u001b[1;32m     11\u001b[0m \u001b[38;5;28;01mfrom\u001b[39;00m \u001b[38;5;21;01msrc\u001b[39;00m\u001b[38;5;21;01m.\u001b[39;00m\u001b[38;5;21;01mfact_reasoner\u001b[39;00m\u001b[38;5;21;01m.\u001b[39;00m\u001b[38;5;21;01matom_extractor\u001b[39;00m \u001b[38;5;28;01mimport\u001b[39;00m AtomExtractor\n\u001b[1;32m     12\u001b[0m \u001b[38;5;28;01mfrom\u001b[39;00m \u001b[38;5;21;01msrc\u001b[39;00m\u001b[38;5;21;01m.\u001b[39;00m\u001b[38;5;21;01mfact_reasoner\u001b[39;00m\u001b[38;5;21;01m.\u001b[39;00m\u001b[38;5;21;01matom_reviser\u001b[39;00m \u001b[38;5;28;01mimport\u001b[39;00m AtomReviser\n",
      "File \u001b[0;32m/data/radu/git/FactReasoner/src/fact_reasoner/context_retriever.py:18\u001b[0m\n\u001b[1;32m     16\u001b[0m \u001b[38;5;28;01mimport\u001b[39;00m \u001b[38;5;21;01mio\u001b[39;00m\n\u001b[1;32m     17\u001b[0m \u001b[38;5;28;01mimport\u001b[39;00m \u001b[38;5;21;01mre\u001b[39;00m\n\u001b[0;32m---> 18\u001b[0m \u001b[38;5;28;01mimport\u001b[39;00m \u001b[38;5;21;01mchromadb\u001b[39;00m\n\u001b[1;32m     19\u001b[0m \u001b[38;5;28;01mimport\u001b[39;00m \u001b[38;5;21;01mhtml2text\u001b[39;00m\n\u001b[1;32m     20\u001b[0m \u001b[38;5;28;01mimport\u001b[39;00m \u001b[38;5;21;01mrequests\u001b[39;00m\n",
      "\u001b[0;31mModuleNotFoundError\u001b[0m: No module named 'chromadb'"
     ]
    }
   ],
   "source": [
    "import os\n",
    "from pathlib import Path\n",
    "import sys\n",
    "import json\n",
    "\n",
    "parent_dir = str(Path(os.getcwd()).resolve().parent)\n",
    "sys.path.insert(0, parent_dir)\n",
    "print(parent_dir)\n",
    "\n",
    "from src.fact_reasoner.context_retriever import ContextRetriever\n",
    "from src.fact_reasoner.atom_extractor import AtomExtractor\n",
    "from src.fact_reasoner.atom_reviser import AtomReviser\n",
    "from src.fact_reasoner.baselines.factscore import FactScore"
   ]
  },
  {
   "cell_type": "code",
   "execution_count": null,
   "id": "9ea2a3a1",
   "metadata": {},
   "outputs": [],
   "source": [
    "# Define the model and backend\n",
    "model_id = \"llama-3.3-70b-instruct\"\n",
    "backend = \"rits\"\n",
    "cache_dir = None\n",
    "\n",
    "# Define the input file (change to ...)\n",
    "input_file = \"/home/radu/git/FactReasoner/examples/flaherty_wikipedia.json\"\n",
    "\n",
    "# Create the retriever, atomizer and reviser.\n",
    "context_retriever = ContextRetriever(service_type=\"google\", top_k=5, cache_dir=cache_dir)\n",
    "atom_extractor = AtomExtractor(model_id=model_id, backend=backend)\n",
    "atom_reviser = AtomReviser(model_id=model_id, backend=backend)\n",
    "\n",
    "# Create the FactScore pipeline\n",
    "pipeline = FactScore(\n",
    "    context_retriever=context_retriever,\n",
    "    atom_extractor=atom_extractor,\n",
    "    atom_reviser=atom_reviser,\n",
    "    model_id=model_id,\n",
    "    add_topic=True,\n",
    "    backend=backend,  # Use RITS for the LLM\n",
    ")\n",
    "\n",
    "# Load the problem instance from a file\n",
    "json_file = input_file\n",
    "with open(json_file, \"r\") as f:\n",
    "    data = json.load(f)\n",
    "\n",
    "# Load the file (json)\n",
    "print(f\"[FactScore] Initializing pipeline from: {json_file}\")\n",
    "pipeline.from_dict_with_contexts(data)\n",
    "\n",
    "# Build the scorer\n",
    "pipeline.build(\n",
    "    has_atoms=True,\n",
    "    has_contexts=True,\n",
    "    decontextualize_atoms=False\n",
    ")\n",
    "\n",
    "# Print the results\n",
    "results = pipeline.score()\n",
    "print(f\"[FactScore] Results: {results}\")\n",
    "print(f\"Done.\")"
   ]
  }
 ],
 "metadata": {
  "kernelspec": {
   "display_name": "fmsherpas",
   "language": "python",
   "name": "python3"
  },
  "language_info": {
   "codemirror_mode": {
    "name": "ipython",
    "version": 3
   },
   "file_extension": ".py",
   "mimetype": "text/x-python",
   "name": "python",
   "nbconvert_exporter": "python",
   "pygments_lexer": "ipython3",
   "version": "3.9.19"
  }
 },
 "nbformat": 4,
 "nbformat_minor": 5
}
