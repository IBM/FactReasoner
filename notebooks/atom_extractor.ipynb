{
 "cells": [
  {
   "cell_type": "markdown",
   "id": "a1dc791c",
   "metadata": {},
   "source": [
    "## Example of Atom Extractor"
   ]
  },
  {
   "cell_type": "markdown",
   "id": "5df33c6f",
   "metadata": {},
   "source": [
    "### Import libraries"
   ]
  },
  {
   "cell_type": "code",
   "execution_count": null,
   "id": "c50a1157",
   "metadata": {},
   "outputs": [],
   "source": [
    "import os\n",
    "from pathlib import Path\n",
    "import sys\n",
    "import logging\n",
    "\n",
    "parent_dir = str(Path(os.getcwd()).resolve().parent)\n",
    "sys.path.insert(0, parent_dir)\n",
    "\n",
    "logger = logging.getLogger(__name__)\n",
    "logging.getLogger(\"LiteLLM\").disabled = True\n",
    "\n",
    "from src.fact_reasoner.atom_extractor import AtomExtractor"
   ]
  },
  {
   "cell_type": "markdown",
   "id": "bfec14f9",
   "metadata": {},
   "source": [
    "### Define the model and backend"
   ]
  },
  {
   "cell_type": "code",
   "execution_count": null,
   "id": "408b131f",
   "metadata": {},
   "outputs": [],
   "source": [
    "model_id = \"llama-3.3-70b-instruct\"\n",
    "prompt_version = \"v2\"\n",
    "backend = \"rits\""
   ]
  },
  {
   "cell_type": "markdown",
   "id": "d0d4c90c",
   "metadata": {},
   "source": [
    "### Create the atom extractor module"
   ]
  },
  {
   "cell_type": "code",
   "execution_count": null,
   "id": "50d2f701",
   "metadata": {},
   "outputs": [],
   "source": [
    "extractor = AtomExtractor(model_id=model_id, prompt_version=prompt_version, backend=backend)"
   ]
  },
  {
   "cell_type": "markdown",
   "id": "021ec841",
   "metadata": {},
   "source": [
    "### Text to assess"
   ]
  },
  {
   "cell_type": "code",
   "execution_count": null,
   "id": "2c396755",
   "metadata": {},
   "outputs": [],
   "source": [
    "\n",
    "response = \"The Apollo 14 mission to the Moon took place on January 31, 1971. \\\n",
    "    This mission was significant as it marked the third time humans set \\\n",
    "    foot on the lunar surface, with astronauts Alan Shepard and Edgar \\\n",
    "    Mitchell joining Captain Stuart Roosa, who had previously flown on \\\n",
    "    Apollo 13. The mission lasted for approximately 8 days, during which \\\n",
    "    the crew conducted various experiments and collected samples from the \\\n",
    "    lunar surface. Apollo 14 brought back approximately 70 kilograms of \\\n",
    "    lunar material, including rocks, soil, and core samples, which have \\\n",
    "    been invaluable for scientific research ever since.\""
   ]
  },
  {
   "cell_type": "markdown",
   "id": "b5832eb1",
   "metadata": {},
   "source": [
    "### Extract the atoms"
   ]
  },
  {
   "cell_type": "code",
   "execution_count": null,
   "id": "e7f60728",
   "metadata": {},
   "outputs": [
    {
     "name": "stdout",
     "output_type": "stream",
     "text": [
      "[LLMHandler] Using API key: 4c4957b64f4875503e2a7a0e9ab85383\n",
      "[LLMHandler] Using model id: openai/meta-llama/llama-3-3-70b-instruct\n",
      "[LLMHandler] Using model info: {'model_id': 'openai/meta-llama/llama-3-3-70b-instruct', 'api_base': 'https://inference-3scale-apicast-production.apps.rits.fmaas.res.ibm.com/llama-3-3-70b-instruct/v1', 'max_new_tokens': 128000, 'prompt_template': '<|begin_of_text|><|start_header_id|>user<|end_header_id|>\\n\\n{}<|eot_id|><|start_header_id|>assistant<|end_header_id|>', 'prompt_begin': '<|begin_of_text|><|start_header_id|>user<|end_header_id|>', 'prompt_end': '<|eot_id|><|start_header_id|>assistant<|end_header_id|>'}\n",
      "[LLMHandler] Initialization completed.\n",
      "[AtomExtractor] Using LLM on rits: llama-3.3-70b-instruct\n",
      "[AtomExtractor] Using prompt version: v2\n",
      "[AtomExtractor] Prompts created: 1\n",
      "Number of atoms: 13\n",
      "0: [Fact] - The Apollo 14 mission to the Moon took place on January 31, 1971\n",
      "1: [Claim] - The Apollo 14 mission was significant\n",
      "2: [Fact] - The Apollo 14 mission marked the third time humans set foot on the lunar surface\n",
      "3: [Fact] - Astronauts Alan Shepard and Edgar Mitchell joined Captain Stuart Roosa on the Apollo 14 mission\n",
      "4: [Fact] - Captain Stuart Roosa had previously flown on Apollo 13\n",
      "5: [Fact] - The mission lasted for approximately 8 days\n",
      "6: [Fact] - The crew conducted various experiments during the Apollo 14 mission\n",
      "7: [Fact] - The crew collected samples from the lunar surface during the Apollo 14 mission\n",
      "8: [Fact] - Apollo 14 brought back approximately 70 kilograms of lunar material\n",
      "9: [Fact] - The lunar material brought back by Apollo 14 included rocks\n",
      "10: [Fact] - The lunar material brought back by Apollo 14 included soil\n",
      "11: [Fact] - The lunar material brought back by Apollo 14 included core samples\n",
      "12: [Claim] - The lunar material brought back by Apollo 14 has been invaluable for scientific research\n"
     ]
    }
   ],
   "source": [
    "result = extractor.run(response)\n",
    "num_atoms = result[\"num_atoms\"]\n",
    "print(f\"Number of atoms: {num_atoms}\")\n",
    "for i, elem in enumerate(result[\"all_facts\"]):\n",
    "    label = elem[\"label\"]\n",
    "    text = elem[\"atom\"]\n",
    "    print(f\"{i}: [{label}] - {text}\")"
   ]
  }
 ],
 "metadata": {
  "kernelspec": {
   "display_name": "Python 3 (ipykernel)",
   "language": "python",
   "name": "python3"
  },
  "language_info": {
   "codemirror_mode": {
    "name": "ipython",
    "version": 3
   },
   "file_extension": ".py",
   "mimetype": "text/x-python",
   "name": "python",
   "nbconvert_exporter": "python",
   "pygments_lexer": "ipython3",
   "version": "3.10.18"
  }
 },
 "nbformat": 4,
 "nbformat_minor": 5
}
