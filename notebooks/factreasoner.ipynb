{
 "cells": [
  {
   "cell_type": "markdown",
   "id": "a1dc791c",
   "metadata": {},
   "source": [
    "### Example of FactReasoner Pipeline"
   ]
  },
  {
   "cell_type": "code",
   "execution_count": null,
   "id": "c50a1157",
   "metadata": {},
   "outputs": [],
   "source": [
    "import os"
   ]
  }
 ],
 "metadata": {
  "language_info": {
   "name": "python"
  }
 },
 "nbformat": 4,
 "nbformat_minor": 5
}
